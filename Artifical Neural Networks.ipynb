{
  "nbformat": 4,
  "nbformat_minor": 0,
  "metadata": {
    "colab": {
      "name": "Sample.ipynb",
      "provenance": []
    },
    "kernelspec": {
      "name": "python3",
      "display_name": "Python 3"
    }
  },
  "cells": [
    {
      "cell_type": "markdown",
      "metadata": {
        "id": "mwNstk4EyTep"
      },
      "source": [
        "##**Mounting Drive**"
      ]
    },
    {
      "cell_type": "code",
      "metadata": {
        "colab": {
          "base_uri": "https://localhost:8080/"
        },
        "id": "gDSnHTpGnMwy",
        "outputId": "c8d9c6ee-c610-43c6-ceee-1fb32ca6e578"
      },
      "source": [
        "from google.colab import drive\r\n",
        "import os\r\n",
        "drive.mount('/content/drive', force_remount=True)\r\n",
        "os.chdir('/content/drive/MyDrive/Personal_Projects')"
      ],
      "execution_count": null,
      "outputs": [
        {
          "output_type": "stream",
          "text": [
            "Mounted at /content/drive\n"
          ],
          "name": "stdout"
        }
      ]
    },
    {
      "cell_type": "markdown",
      "metadata": {
        "id": "xM8YmC3pyck2"
      },
      "source": [
        "##**Artifical Neural Networks**"
      ]
    },
    {
      "cell_type": "markdown",
      "metadata": {
        "id": "yF_O9Cs8kLOa"
      },
      "source": [
        "**Importing Libraries**"
      ]
    },
    {
      "cell_type": "code",
      "metadata": {
        "id": "e0TlLBzN0NIL"
      },
      "source": [
        "import keras\r\n",
        "import tensorflow as tf\r\n",
        "from keras.models import Sequential, Model\r\n",
        "from keras.layers import Dense, Input\r\n",
        "from keras.optimizers import Adam\r\n",
        "import pydot\r\n",
        "import graphviz\r\n",
        "from IPython.display import SVG\r\n",
        "from keras.utils.vis_utils import model_to_dot\r\n",
        "from keras.utils import plot_model\r\n",
        "from sklearn.preprocessing import LabelEncoder\r\n",
        "from sklearn.model_selection import train_test_split\r\n",
        "from sklearn.metrics import classification_report, confusion_matrix, accuracy_score, average_precision_score\r\n",
        "import seaborn as sns\r\n",
        "import pandas as pd\r\n",
        "import numpy as np"
      ],
      "execution_count": null,
      "outputs": []
    },
    {
      "cell_type": "markdown",
      "metadata": {
        "id": "K1Ce1qntkReT"
      },
      "source": [
        "**Pre-Processing**"
      ]
    },
    {
      "cell_type": "code",
      "metadata": {
        "id": "WhaEHzQFylmz",
        "colab": {
          "base_uri": "https://localhost:8080/",
          "height": 204
        },
        "outputId": "840d3f4e-ac9c-4583-fb99-565b4a646f2e"
      },
      "source": [
        "data = pd.read_csv(\"Credit_Scoring.csv\")\r\n",
        "data.head()"
      ],
      "execution_count": null,
      "outputs": [
        {
          "output_type": "execute_result",
          "data": {
            "text/html": [
              "<div>\n",
              "<style scoped>\n",
              "    .dataframe tbody tr th:only-of-type {\n",
              "        vertical-align: middle;\n",
              "    }\n",
              "\n",
              "    .dataframe tbody tr th {\n",
              "        vertical-align: top;\n",
              "    }\n",
              "\n",
              "    .dataframe thead th {\n",
              "        text-align: right;\n",
              "    }\n",
              "</style>\n",
              "<table border=\"1\" class=\"dataframe\">\n",
              "  <thead>\n",
              "    <tr style=\"text-align: right;\">\n",
              "      <th></th>\n",
              "      <th>Status</th>\n",
              "      <th>Seniority</th>\n",
              "      <th>Home</th>\n",
              "      <th>Time</th>\n",
              "      <th>Age</th>\n",
              "      <th>Marital</th>\n",
              "      <th>Records</th>\n",
              "      <th>Job</th>\n",
              "      <th>Expenses</th>\n",
              "      <th>Income</th>\n",
              "      <th>Assets</th>\n",
              "      <th>Debt</th>\n",
              "      <th>Amount</th>\n",
              "      <th>Price</th>\n",
              "      <th>Finrat</th>\n",
              "      <th>Savings</th>\n",
              "    </tr>\n",
              "  </thead>\n",
              "  <tbody>\n",
              "    <tr>\n",
              "      <th>0</th>\n",
              "      <td>good</td>\n",
              "      <td>9</td>\n",
              "      <td>rent</td>\n",
              "      <td>60</td>\n",
              "      <td>30</td>\n",
              "      <td>married</td>\n",
              "      <td>no_rec</td>\n",
              "      <td>freelance</td>\n",
              "      <td>73</td>\n",
              "      <td>129</td>\n",
              "      <td>0</td>\n",
              "      <td>0</td>\n",
              "      <td>800</td>\n",
              "      <td>846</td>\n",
              "      <td>94.562648</td>\n",
              "      <td>4.200000</td>\n",
              "    </tr>\n",
              "    <tr>\n",
              "      <th>1</th>\n",
              "      <td>good</td>\n",
              "      <td>17</td>\n",
              "      <td>rent</td>\n",
              "      <td>60</td>\n",
              "      <td>58</td>\n",
              "      <td>widow</td>\n",
              "      <td>no_rec</td>\n",
              "      <td>fixed</td>\n",
              "      <td>48</td>\n",
              "      <td>131</td>\n",
              "      <td>0</td>\n",
              "      <td>0</td>\n",
              "      <td>1000</td>\n",
              "      <td>1658</td>\n",
              "      <td>60.313631</td>\n",
              "      <td>4.980000</td>\n",
              "    </tr>\n",
              "    <tr>\n",
              "      <th>2</th>\n",
              "      <td>bad</td>\n",
              "      <td>10</td>\n",
              "      <td>owner</td>\n",
              "      <td>36</td>\n",
              "      <td>46</td>\n",
              "      <td>married</td>\n",
              "      <td>yes_rec</td>\n",
              "      <td>freelance</td>\n",
              "      <td>90</td>\n",
              "      <td>200</td>\n",
              "      <td>3000</td>\n",
              "      <td>0</td>\n",
              "      <td>2000</td>\n",
              "      <td>2985</td>\n",
              "      <td>67.001675</td>\n",
              "      <td>1.980000</td>\n",
              "    </tr>\n",
              "    <tr>\n",
              "      <th>3</th>\n",
              "      <td>good</td>\n",
              "      <td>0</td>\n",
              "      <td>rent</td>\n",
              "      <td>60</td>\n",
              "      <td>24</td>\n",
              "      <td>single</td>\n",
              "      <td>no_rec</td>\n",
              "      <td>fixed</td>\n",
              "      <td>63</td>\n",
              "      <td>182</td>\n",
              "      <td>2500</td>\n",
              "      <td>0</td>\n",
              "      <td>900</td>\n",
              "      <td>1325</td>\n",
              "      <td>67.924528</td>\n",
              "      <td>7.933333</td>\n",
              "    </tr>\n",
              "    <tr>\n",
              "      <th>4</th>\n",
              "      <td>good</td>\n",
              "      <td>0</td>\n",
              "      <td>rent</td>\n",
              "      <td>36</td>\n",
              "      <td>26</td>\n",
              "      <td>single</td>\n",
              "      <td>no_rec</td>\n",
              "      <td>fixed</td>\n",
              "      <td>46</td>\n",
              "      <td>107</td>\n",
              "      <td>0</td>\n",
              "      <td>0</td>\n",
              "      <td>310</td>\n",
              "      <td>910</td>\n",
              "      <td>34.065934</td>\n",
              "      <td>7.083871</td>\n",
              "    </tr>\n",
              "  </tbody>\n",
              "</table>\n",
              "</div>"
            ],
            "text/plain": [
              "  Status  Seniority   Home  Time  Age  ... Debt Amount Price     Finrat   Savings\n",
              "0   good          9   rent    60   30  ...    0    800   846  94.562648  4.200000\n",
              "1   good         17   rent    60   58  ...    0   1000  1658  60.313631  4.980000\n",
              "2    bad         10  owner    36   46  ...    0   2000  2985  67.001675  1.980000\n",
              "3   good          0   rent    60   24  ...    0    900  1325  67.924528  7.933333\n",
              "4   good          0   rent    36   26  ...    0    310   910  34.065934  7.083871\n",
              "\n",
              "[5 rows x 16 columns]"
            ]
          },
          "metadata": {
            "tags": []
          },
          "execution_count": 92
        }
      ]
    },
    {
      "cell_type": "code",
      "metadata": {
        "id": "iGpr5Yl71Yo8",
        "colab": {
          "base_uri": "https://localhost:8080/"
        },
        "outputId": "7ea04ca5-dabd-4e16-9abc-b74c7d9992ca"
      },
      "source": [
        "data.shape"
      ],
      "execution_count": null,
      "outputs": [
        {
          "output_type": "execute_result",
          "data": {
            "text/plain": [
              "(4446, 16)"
            ]
          },
          "metadata": {
            "tags": []
          },
          "execution_count": 93
        }
      ]
    },
    {
      "cell_type": "code",
      "metadata": {
        "id": "6UDcoKfR1gmJ",
        "colab": {
          "base_uri": "https://localhost:8080/"
        },
        "outputId": "6e331c54-3531-46dd-c4c1-b3f7753eefb3"
      },
      "source": [
        "# Checking if any Missing Values are there in the Dataset\r\n",
        "data.isnull().any()"
      ],
      "execution_count": null,
      "outputs": [
        {
          "output_type": "execute_result",
          "data": {
            "text/plain": [
              "Status       False\n",
              "Seniority    False\n",
              "Home         False\n",
              "Time         False\n",
              "Age          False\n",
              "Marital      False\n",
              "Records      False\n",
              "Job          False\n",
              "Expenses     False\n",
              "Income       False\n",
              "Assets       False\n",
              "Debt         False\n",
              "Amount       False\n",
              "Price        False\n",
              "Finrat       False\n",
              "Savings      False\n",
              "dtype: bool"
            ]
          },
          "metadata": {
            "tags": []
          },
          "execution_count": 94
        }
      ]
    },
    {
      "cell_type": "code",
      "metadata": {
        "id": "ekoLUSZA1lT6",
        "colab": {
          "base_uri": "https://localhost:8080/"
        },
        "outputId": "e78fc7e1-271f-4dd9-e557-5108201f4663"
      },
      "source": [
        "# Checking if any categorical Features are there in the Dataset\r\n",
        "categorical_data = data.select_dtypes(exclude=[np.number])\r\n",
        "print (\"There are {} categorical Columns in Dataset\".format(categorical_data.shape[1]))"
      ],
      "execution_count": null,
      "outputs": [
        {
          "output_type": "stream",
          "text": [
            "There are 5 categorical Columns in Dataset\n"
          ],
          "name": "stdout"
        }
      ]
    },
    {
      "cell_type": "code",
      "metadata": {
        "id": "v8MhiWWn1m78",
        "colab": {
          "base_uri": "https://localhost:8080/"
        },
        "outputId": "670717b2-5d87-4443-8992-b6ebb30ceb43"
      },
      "source": [
        "# Name of all the Categorical Features Present in the Dataset\r\n",
        "categorical_data.any()"
      ],
      "execution_count": null,
      "outputs": [
        {
          "output_type": "execute_result",
          "data": {
            "text/plain": [
              "Status     True\n",
              "Home       True\n",
              "Marital    True\n",
              "Records    True\n",
              "Job        True\n",
              "dtype: bool"
            ]
          },
          "metadata": {
            "tags": []
          },
          "execution_count": 96
        }
      ]
    },
    {
      "cell_type": "code",
      "metadata": {
        "id": "o4_A0v4N0mM7"
      },
      "source": [
        "encoder =  LabelEncoder()\r\n",
        "data['Status'] = encoder.fit_transform(data['Status'].astype('str'))\r\n",
        "data['Home'] = encoder.fit_transform(data['Home'].astype('str'))\r\n",
        "data['Marital'] = encoder.fit_transform(data['Marital'].astype('str'))\r\n",
        "data['Job'] = encoder.fit_transform(data['Job'].astype('str'))\r\n",
        "data['Records'] = encoder.fit_transform(data['Records'].astype('str'))"
      ],
      "execution_count": null,
      "outputs": []
    },
    {
      "cell_type": "code",
      "metadata": {
        "id": "Q2R8BzNu17Mo",
        "colab": {
          "base_uri": "https://localhost:8080/"
        },
        "outputId": "118e2fa3-4236-4ee8-a499-f0a311f09b54"
      },
      "source": [
        "#Checking Data Types of the Features for Confirmation\r\n",
        "data.dtypes"
      ],
      "execution_count": null,
      "outputs": [
        {
          "output_type": "execute_result",
          "data": {
            "text/plain": [
              "Status         int64\n",
              "Seniority      int64\n",
              "Home           int64\n",
              "Time           int64\n",
              "Age            int64\n",
              "Marital        int64\n",
              "Records        int64\n",
              "Job            int64\n",
              "Expenses       int64\n",
              "Income         int64\n",
              "Assets         int64\n",
              "Debt           int64\n",
              "Amount         int64\n",
              "Price          int64\n",
              "Finrat       float64\n",
              "Savings      float64\n",
              "dtype: object"
            ]
          },
          "metadata": {
            "tags": []
          },
          "execution_count": 73
        }
      ]
    },
    {
      "cell_type": "code",
      "metadata": {
        "id": "cjS24ZnE2A2b",
        "colab": {
          "base_uri": "https://localhost:8080/"
        },
        "outputId": "f250092a-ceb5-4f77-9d19-054383c77486"
      },
      "source": [
        "# Value Counts of 'GOOD' Status and 'BAD' Status\r\n",
        "# 'GOOD': 1 and 'BAD': 0\r\n",
        "data.Status.value_counts()"
      ],
      "execution_count": null,
      "outputs": [
        {
          "output_type": "execute_result",
          "data": {
            "text/plain": [
              "1    3197\n",
              "0    1249\n",
              "Name: Status, dtype: int64"
            ]
          },
          "metadata": {
            "tags": []
          },
          "execution_count": 74
        }
      ]
    },
    {
      "cell_type": "code",
      "metadata": {
        "id": "J9ZbhZfm4Uvq"
      },
      "source": [
        "X = data.iloc[:,1:].values\r\n",
        "y = data.iloc[:,0].values\r\n",
        "Y = pd.get_dummies(y).values"
      ],
      "execution_count": null,
      "outputs": []
    },
    {
      "cell_type": "code",
      "metadata": {
        "colab": {
          "base_uri": "https://localhost:8080/"
        },
        "id": "Nxg8rNx9F1qD",
        "outputId": "15557788-ed9f-4bd9-f792-3d19c0afbbe9"
      },
      "source": [
        "y.size, X.size, Y.size, len(y), len(X), len(Y)"
      ],
      "execution_count": null,
      "outputs": [
        {
          "output_type": "execute_result",
          "data": {
            "text/plain": [
              "(4446, 66690, 8892, 4446, 4446, 4446)"
            ]
          },
          "metadata": {
            "tags": []
          },
          "execution_count": 76
        }
      ]
    },
    {
      "cell_type": "code",
      "metadata": {
        "id": "t7CKTSfH2f6K"
      },
      "source": [
        "X_train, X_test, y_train, y_test = train_test_split(X, y, test_size=0.2, random_state=0, shuffle=True)"
      ],
      "execution_count": null,
      "outputs": []
    },
    {
      "cell_type": "code",
      "metadata": {
        "colab": {
          "base_uri": "https://localhost:8080/"
        },
        "id": "U1RDfCczEimn",
        "outputId": "107f380b-00a0-4a07-df09-3117357fc804"
      },
      "source": [
        "print('Size')\r\n",
        "print(f'X_train: {X_train.size}\\nX_test: {X_test.size}\\ny_train: {y_train.size}\\ny_test: {y_test.size}\\ndata: {data.size}\\n')\r\n",
        "\r\n",
        "print('Shape')\r\n",
        "print(f'X_train: {X_train.shape}\\nX_test: {X_test.shape}\\ny_train: {y_train.shape}\\ny_test: {y_test.shape}\\ndata: {data.shape}\\n')"
      ],
      "execution_count": null,
      "outputs": [
        {
          "output_type": "stream",
          "text": [
            "Size\n",
            "X_train: 53340\n",
            "X_test: 13350\n",
            "y_train: 3556\n",
            "y_test: 890\n",
            "data: 71136\n",
            "\n",
            "Shape\n",
            "X_train: (3556, 15)\n",
            "X_test: (890, 15)\n",
            "y_train: (3556,)\n",
            "y_test: (890,)\n",
            "data: (4446, 16)\n",
            "\n"
          ],
          "name": "stdout"
        }
      ]
    },
    {
      "cell_type": "code",
      "metadata": {
        "id": "86U9BFQ6VhNm"
      },
      "source": [
        "y_train = tf.one_hot(y_train, depth=2)\r\n",
        "y_test = tf.one_hot(y_test, depth=2)"
      ],
      "execution_count": null,
      "outputs": []
    },
    {
      "cell_type": "code",
      "metadata": {
        "colab": {
          "base_uri": "https://localhost:8080/"
        },
        "id": "u4W_j7JeR_4f",
        "outputId": "ac886362-e3e3-42a4-bb28-33da9c919f8a"
      },
      "source": [
        "print('Shape')\r\n",
        "print(f'X_train: {X_train.shape}\\nX_test: {X_test.shape}\\ny_train: {y_train.shape}\\ny_test: {y_test.shape}\\ndata: {data.shape}\\n')"
      ],
      "execution_count": null,
      "outputs": [
        {
          "output_type": "stream",
          "text": [
            "Shape\n",
            "X_train: (3556, 15)\n",
            "X_test: (890, 15)\n",
            "y_train: (3556, 2)\n",
            "y_test: (890, 2)\n",
            "data: (4446, 16)\n",
            "\n"
          ],
          "name": "stdout"
        }
      ]
    },
    {
      "cell_type": "code",
      "metadata": {
        "id": "zWRk6_9oQwE4"
      },
      "source": [
        "sc = StandardScaler()\r\n",
        "X_train = sc.fit_transform(X_train)\r\n",
        "X_test = sc.fit_transform(X_test)"
      ],
      "execution_count": null,
      "outputs": []
    },
    {
      "cell_type": "markdown",
      "metadata": {
        "id": "e31cTcr5kej4"
      },
      "source": [
        "**Building, Training and Testing The Model**\r\n",
        "\r\n",
        "I Build the models using the old fashioned trial and error method\r\n",
        "\r\n",
        "Model1 seems to give the highest accuracy"
      ]
    },
    {
      "cell_type": "code",
      "metadata": {
        "id": "83fsDKHzBemb"
      },
      "source": [
        "# Acc: 78.94\r\n",
        "# Weights file: two_layer_credit_score_model.h5\r\n",
        "def build_model1(weights_path=None):\r\n",
        "  input = Input((15,))\r\n",
        "  layer1 = Dense(30, activation='relu')(input)\r\n",
        "  layer2 = Dense(30, activation='relu')(layer1)\r\n",
        "  output = Dense(2, activation='softmax')(layer2)\r\n",
        "\r\n",
        "  if not weights_path:\r\n",
        "    model = Model(inputs=input, outputs=output)\r\n",
        "    model.compile(optimizer=\"Adam\", loss='binary_crossentropy', metrics=['accuracy'])\r\n",
        "  else:\r\n",
        "    model = Model(inputs=input, outputs=output)\r\n",
        "    model.load_weights(weights_path)\r\n",
        "  return model\r\n",
        "\r\n",
        "\r\n",
        "# Acc: 78.50\r\n",
        "# Weights file: credit_score_model.h5\r\n",
        "def build_model2(weights_path=None):\r\n",
        "  input = Input((15,))\r\n",
        "  layer1 = Dense(30, activation='relu')(input)\r\n",
        "  layer2 = Dense(30, activation='relu')(layer1)\r\n",
        "  layer3 = Dense(15, activation='relu')(layer2)\r\n",
        "  output = Dense(2, activation='softmax')(layer3)\r\n",
        "\r\n",
        "  if not weights_path:\r\n",
        "    model = Model(inputs=input, outputs=output)\r\n",
        "    model.compile(optimizer=\"Adam\", loss='binary_crossentropy', metrics=['accuracy'])\r\n",
        "  else:\r\n",
        "    model = Model(inputs=input, outputs=output)\r\n",
        "    model.load_weights(weights_path)\r\n",
        "  return model\r\n",
        "\r\n",
        "\r\n",
        "def build_model3(weights_path=None):\r\n",
        "  input = Input((15,))\r\n",
        "  layer1 = Dense(30, activation='sigmoid')(input)\r\n",
        "  layer2 = Dense(30, activation='sigmoid')(layer1)\r\n",
        "  output = Dense(2, activation='softmax')(layer2)\r\n",
        "\r\n",
        "  if not weights_path:\r\n",
        "    model = Model(inputs=input, outputs=output)\r\n",
        "    model.compile(optimizer=\"Adam\", loss='binary_crossentropy', metrics=['accuracy'])\r\n",
        "  else:\r\n",
        "    model = Model(inputs=input, outputs=output)\r\n",
        "    model.load_weights(weights_path)\r\n",
        "  return model\r\n",
        "\r\n",
        "\r\n",
        "def build_model4(weights_path=None):\r\n",
        "  input = Input((15,))\r\n",
        "  layer1 = Dense(30, activation='sigmoid')(input)\r\n",
        "  layer2 = Dense(30, activation='sigmoid')(layer1)\r\n",
        "  layer3 = Dense(15, activation='sigmoid')(layer2)\r\n",
        "  output = Dense(2, activation='softmax')(layer3)\r\n",
        "\r\n",
        "  if not weights_path:\r\n",
        "    model = Model(inputs=input, outputs=output)\r\n",
        "    model.compile(optimizer=\"Adam\", loss='binary_crossentropy', metrics=['accuracy'])\r\n",
        "  else:\r\n",
        "    model = Model(inputs=input, outputs=output)\r\n",
        "    model.load_weights(weights_path)\r\n",
        "  return model\r\n",
        "\r\n",
        "\r\n",
        "def test_model(model, X_test, y_test):\r\n",
        "  y_pred = model.predict(X_test)\r\n",
        "  y_test_class = np.argmax(y_test,axis=1)\r\n",
        "  y_pred_class = np.argmax(y_pred,axis=1)\r\n",
        "\r\n",
        "  print('Classification Report:')\r\n",
        "  print(classification_report(y_test_class,y_pred_class))\r\n",
        "  print('Confusion Martix:')\r\n",
        "  print(confusion_matrix(y_test_class,y_pred_class))"
      ],
      "execution_count": null,
      "outputs": []
    },
    {
      "cell_type": "code",
      "metadata": {
        "id": "cql6OklgJIc-"
      },
      "source": [
        "model = build_model1()"
      ],
      "execution_count": null,
      "outputs": []
    },
    {
      "cell_type": "code",
      "metadata": {
        "colab": {
          "base_uri": "https://localhost:8080/"
        },
        "id": "_vDzF35KItlp",
        "outputId": "eefff3de-f833-4d88-db03-1840260239d9"
      },
      "source": [
        "model.summary()"
      ],
      "execution_count": null,
      "outputs": [
        {
          "output_type": "stream",
          "text": [
            "Model: \"model_2\"\n",
            "_________________________________________________________________\n",
            "Layer (type)                 Output Shape              Param #   \n",
            "=================================================================\n",
            "input_3 (InputLayer)         [(None, 15)]              0         \n",
            "_________________________________________________________________\n",
            "dense_6 (Dense)              (None, 30)                480       \n",
            "_________________________________________________________________\n",
            "dense_7 (Dense)              (None, 30)                930       \n",
            "_________________________________________________________________\n",
            "dense_8 (Dense)              (None, 2)                 62        \n",
            "=================================================================\n",
            "Total params: 1,472\n",
            "Trainable params: 1,472\n",
            "Non-trainable params: 0\n",
            "_________________________________________________________________\n"
          ],
          "name": "stdout"
        }
      ]
    },
    {
      "cell_type": "code",
      "metadata": {
        "colab": {
          "base_uri": "https://localhost:8080/"
        },
        "id": "DbY0s0BM8ySV",
        "outputId": "48aff9f6-991e-4709-b095-6cc963a23062"
      },
      "source": [
        "model.fit(X_train, y_train, batch_size=10, epochs=100)"
      ],
      "execution_count": null,
      "outputs": [
        {
          "output_type": "stream",
          "text": [
            "Epoch 1/100\n",
            "356/356 [==============================] - 1s 1ms/step - loss: 0.5577 - accuracy: 0.7294\n",
            "Epoch 2/100\n",
            "356/356 [==============================] - 0s 1ms/step - loss: 0.4476 - accuracy: 0.7935\n",
            "Epoch 3/100\n",
            "356/356 [==============================] - 0s 1ms/step - loss: 0.4626 - accuracy: 0.7778\n",
            "Epoch 4/100\n",
            "356/356 [==============================] - 0s 1ms/step - loss: 0.4455 - accuracy: 0.7815\n",
            "Epoch 5/100\n",
            "356/356 [==============================] - 0s 1ms/step - loss: 0.4227 - accuracy: 0.8031\n",
            "Epoch 6/100\n",
            "356/356 [==============================] - 0s 1ms/step - loss: 0.4238 - accuracy: 0.8076\n",
            "Epoch 7/100\n",
            "356/356 [==============================] - 0s 1ms/step - loss: 0.4026 - accuracy: 0.8114\n",
            "Epoch 8/100\n",
            "356/356 [==============================] - 0s 1ms/step - loss: 0.4131 - accuracy: 0.8010\n",
            "Epoch 9/100\n",
            "356/356 [==============================] - 0s 1ms/step - loss: 0.3972 - accuracy: 0.8120\n",
            "Epoch 10/100\n",
            "356/356 [==============================] - 0s 1ms/step - loss: 0.4077 - accuracy: 0.8091\n",
            "Epoch 11/100\n",
            "356/356 [==============================] - 0s 1ms/step - loss: 0.4085 - accuracy: 0.8061\n",
            "Epoch 12/100\n",
            "356/356 [==============================] - 0s 1ms/step - loss: 0.3883 - accuracy: 0.8204\n",
            "Epoch 13/100\n",
            "356/356 [==============================] - 0s 1ms/step - loss: 0.3817 - accuracy: 0.8261\n",
            "Epoch 14/100\n",
            "356/356 [==============================] - 0s 1ms/step - loss: 0.3923 - accuracy: 0.8154\n",
            "Epoch 15/100\n",
            "356/356 [==============================] - 0s 1ms/step - loss: 0.4082 - accuracy: 0.8150\n",
            "Epoch 16/100\n",
            "356/356 [==============================] - 0s 1ms/step - loss: 0.3802 - accuracy: 0.8258\n",
            "Epoch 17/100\n",
            "356/356 [==============================] - 0s 1ms/step - loss: 0.3844 - accuracy: 0.8299\n",
            "Epoch 18/100\n",
            "356/356 [==============================] - 0s 1ms/step - loss: 0.3941 - accuracy: 0.8186\n",
            "Epoch 19/100\n",
            "356/356 [==============================] - 0s 1ms/step - loss: 0.3733 - accuracy: 0.8305\n",
            "Epoch 20/100\n",
            "356/356 [==============================] - 0s 1ms/step - loss: 0.3726 - accuracy: 0.8315\n",
            "Epoch 21/100\n",
            "356/356 [==============================] - 0s 1ms/step - loss: 0.3683 - accuracy: 0.8318\n",
            "Epoch 22/100\n",
            "356/356 [==============================] - 0s 1ms/step - loss: 0.3796 - accuracy: 0.8240\n",
            "Epoch 23/100\n",
            "356/356 [==============================] - 0s 1ms/step - loss: 0.3629 - accuracy: 0.8366\n",
            "Epoch 24/100\n",
            "356/356 [==============================] - 0s 1ms/step - loss: 0.3669 - accuracy: 0.8323\n",
            "Epoch 25/100\n",
            "356/356 [==============================] - 0s 1ms/step - loss: 0.3695 - accuracy: 0.8257\n",
            "Epoch 26/100\n",
            "356/356 [==============================] - 0s 1ms/step - loss: 0.3469 - accuracy: 0.8431\n",
            "Epoch 27/100\n",
            "356/356 [==============================] - 0s 1ms/step - loss: 0.3706 - accuracy: 0.8348\n",
            "Epoch 28/100\n",
            "356/356 [==============================] - 0s 1ms/step - loss: 0.3811 - accuracy: 0.8209\n",
            "Epoch 29/100\n",
            "356/356 [==============================] - 0s 1ms/step - loss: 0.3488 - accuracy: 0.8407\n",
            "Epoch 30/100\n",
            "356/356 [==============================] - 0s 1ms/step - loss: 0.3535 - accuracy: 0.8359\n",
            "Epoch 31/100\n",
            "356/356 [==============================] - 0s 1ms/step - loss: 0.3529 - accuracy: 0.8311\n",
            "Epoch 32/100\n",
            "356/356 [==============================] - 0s 1ms/step - loss: 0.3617 - accuracy: 0.8295\n",
            "Epoch 33/100\n",
            "356/356 [==============================] - 0s 1ms/step - loss: 0.3608 - accuracy: 0.8384\n",
            "Epoch 34/100\n",
            "356/356 [==============================] - 0s 1ms/step - loss: 0.3628 - accuracy: 0.8343\n",
            "Epoch 35/100\n",
            "356/356 [==============================] - 0s 1ms/step - loss: 0.3516 - accuracy: 0.8461\n",
            "Epoch 36/100\n",
            "356/356 [==============================] - 0s 1ms/step - loss: 0.3414 - accuracy: 0.8481\n",
            "Epoch 37/100\n",
            "356/356 [==============================] - 0s 1ms/step - loss: 0.3601 - accuracy: 0.8463\n",
            "Epoch 38/100\n",
            "356/356 [==============================] - 0s 1ms/step - loss: 0.3360 - accuracy: 0.8525\n",
            "Epoch 39/100\n",
            "356/356 [==============================] - 0s 1ms/step - loss: 0.3419 - accuracy: 0.8476\n",
            "Epoch 40/100\n",
            "356/356 [==============================] - 0s 1ms/step - loss: 0.3260 - accuracy: 0.8544\n",
            "Epoch 41/100\n",
            "356/356 [==============================] - 0s 1ms/step - loss: 0.3265 - accuracy: 0.8649\n",
            "Epoch 42/100\n",
            "356/356 [==============================] - 0s 1ms/step - loss: 0.3412 - accuracy: 0.8511\n",
            "Epoch 43/100\n",
            "356/356 [==============================] - 0s 1ms/step - loss: 0.3486 - accuracy: 0.8447\n",
            "Epoch 44/100\n",
            "356/356 [==============================] - 0s 1ms/step - loss: 0.3441 - accuracy: 0.8472\n",
            "Epoch 45/100\n",
            "356/356 [==============================] - 0s 1ms/step - loss: 0.3236 - accuracy: 0.8605\n",
            "Epoch 46/100\n",
            "356/356 [==============================] - 0s 1ms/step - loss: 0.3258 - accuracy: 0.8594\n",
            "Epoch 47/100\n",
            "356/356 [==============================] - 0s 1ms/step - loss: 0.3325 - accuracy: 0.8573\n",
            "Epoch 48/100\n",
            "356/356 [==============================] - 0s 1ms/step - loss: 0.3240 - accuracy: 0.8631\n",
            "Epoch 49/100\n",
            "356/356 [==============================] - 0s 1ms/step - loss: 0.3215 - accuracy: 0.8663\n",
            "Epoch 50/100\n",
            "356/356 [==============================] - 0s 1ms/step - loss: 0.3295 - accuracy: 0.8600\n",
            "Epoch 51/100\n",
            "356/356 [==============================] - 0s 1ms/step - loss: 0.3163 - accuracy: 0.8622\n",
            "Epoch 52/100\n",
            "356/356 [==============================] - 0s 1ms/step - loss: 0.3122 - accuracy: 0.8654\n",
            "Epoch 53/100\n",
            "356/356 [==============================] - 0s 1ms/step - loss: 0.3172 - accuracy: 0.8600\n",
            "Epoch 54/100\n",
            "356/356 [==============================] - 0s 1ms/step - loss: 0.3056 - accuracy: 0.8709\n",
            "Epoch 55/100\n",
            "356/356 [==============================] - 0s 1ms/step - loss: 0.3220 - accuracy: 0.8560\n",
            "Epoch 56/100\n",
            "356/356 [==============================] - 0s 1ms/step - loss: 0.3150 - accuracy: 0.8656\n",
            "Epoch 57/100\n",
            "356/356 [==============================] - 0s 1ms/step - loss: 0.3102 - accuracy: 0.8682\n",
            "Epoch 58/100\n",
            "356/356 [==============================] - 0s 1ms/step - loss: 0.3103 - accuracy: 0.8707\n",
            "Epoch 59/100\n",
            "356/356 [==============================] - 0s 1ms/step - loss: 0.3022 - accuracy: 0.8720\n",
            "Epoch 60/100\n",
            "356/356 [==============================] - 0s 1ms/step - loss: 0.3050 - accuracy: 0.8757\n",
            "Epoch 61/100\n",
            "356/356 [==============================] - 0s 1ms/step - loss: 0.2891 - accuracy: 0.8835\n",
            "Epoch 62/100\n",
            "356/356 [==============================] - 0s 1ms/step - loss: 0.2972 - accuracy: 0.8793\n",
            "Epoch 63/100\n",
            "356/356 [==============================] - 0s 1ms/step - loss: 0.3039 - accuracy: 0.8672\n",
            "Epoch 64/100\n",
            "356/356 [==============================] - 0s 1ms/step - loss: 0.2872 - accuracy: 0.8813\n",
            "Epoch 65/100\n",
            "356/356 [==============================] - 0s 1ms/step - loss: 0.2992 - accuracy: 0.8728\n",
            "Epoch 66/100\n",
            "356/356 [==============================] - 0s 1ms/step - loss: 0.2980 - accuracy: 0.8798\n",
            "Epoch 67/100\n",
            "356/356 [==============================] - 0s 1ms/step - loss: 0.2871 - accuracy: 0.8832\n",
            "Epoch 68/100\n",
            "356/356 [==============================] - 0s 1ms/step - loss: 0.2838 - accuracy: 0.8791\n",
            "Epoch 69/100\n",
            "356/356 [==============================] - 0s 1ms/step - loss: 0.2860 - accuracy: 0.8820\n",
            "Epoch 70/100\n",
            "356/356 [==============================] - 0s 1ms/step - loss: 0.3014 - accuracy: 0.8748\n",
            "Epoch 71/100\n",
            "356/356 [==============================] - 0s 1ms/step - loss: 0.2852 - accuracy: 0.8770\n",
            "Epoch 72/100\n",
            "356/356 [==============================] - 0s 1ms/step - loss: 0.2900 - accuracy: 0.8784\n",
            "Epoch 73/100\n",
            "356/356 [==============================] - 0s 1ms/step - loss: 0.3003 - accuracy: 0.8686\n",
            "Epoch 74/100\n",
            "356/356 [==============================] - 0s 1ms/step - loss: 0.2855 - accuracy: 0.8810\n",
            "Epoch 75/100\n",
            "356/356 [==============================] - 0s 1ms/step - loss: 0.2721 - accuracy: 0.8827\n",
            "Epoch 76/100\n",
            "356/356 [==============================] - 0s 1ms/step - loss: 0.2885 - accuracy: 0.8742\n",
            "Epoch 77/100\n",
            "356/356 [==============================] - 0s 1ms/step - loss: 0.2656 - accuracy: 0.8829\n",
            "Epoch 78/100\n",
            "356/356 [==============================] - 0s 1ms/step - loss: 0.2753 - accuracy: 0.8776\n",
            "Epoch 79/100\n",
            "356/356 [==============================] - 0s 1ms/step - loss: 0.2690 - accuracy: 0.8925\n",
            "Epoch 80/100\n",
            "356/356 [==============================] - 0s 1ms/step - loss: 0.2716 - accuracy: 0.8832\n",
            "Epoch 81/100\n",
            "356/356 [==============================] - 0s 1ms/step - loss: 0.2781 - accuracy: 0.8866\n",
            "Epoch 82/100\n",
            "356/356 [==============================] - 0s 1ms/step - loss: 0.2835 - accuracy: 0.8769\n",
            "Epoch 83/100\n",
            "356/356 [==============================] - 0s 1ms/step - loss: 0.2803 - accuracy: 0.8800\n",
            "Epoch 84/100\n",
            "356/356 [==============================] - 0s 1ms/step - loss: 0.2577 - accuracy: 0.8919\n",
            "Epoch 85/100\n",
            "356/356 [==============================] - 0s 1ms/step - loss: 0.2649 - accuracy: 0.8877\n",
            "Epoch 86/100\n",
            "356/356 [==============================] - 0s 1ms/step - loss: 0.2698 - accuracy: 0.8840\n",
            "Epoch 87/100\n",
            "356/356 [==============================] - 0s 1ms/step - loss: 0.2810 - accuracy: 0.8859\n",
            "Epoch 88/100\n",
            "356/356 [==============================] - 0s 1ms/step - loss: 0.2655 - accuracy: 0.8843\n",
            "Epoch 89/100\n",
            "356/356 [==============================] - 0s 1ms/step - loss: 0.2638 - accuracy: 0.8917\n",
            "Epoch 90/100\n",
            "356/356 [==============================] - 0s 1ms/step - loss: 0.2633 - accuracy: 0.8870\n",
            "Epoch 91/100\n",
            "356/356 [==============================] - 0s 1ms/step - loss: 0.2574 - accuracy: 0.8913\n",
            "Epoch 92/100\n",
            "356/356 [==============================] - 0s 1ms/step - loss: 0.2557 - accuracy: 0.8926\n",
            "Epoch 93/100\n",
            "356/356 [==============================] - 0s 1ms/step - loss: 0.2450 - accuracy: 0.8957\n",
            "Epoch 94/100\n",
            "356/356 [==============================] - 0s 1ms/step - loss: 0.2556 - accuracy: 0.8938\n",
            "Epoch 95/100\n",
            "356/356 [==============================] - 0s 1ms/step - loss: 0.2662 - accuracy: 0.8868\n",
            "Epoch 96/100\n",
            "356/356 [==============================] - 0s 1ms/step - loss: 0.2833 - accuracy: 0.8786\n",
            "Epoch 97/100\n",
            "356/356 [==============================] - 0s 1ms/step - loss: 0.2542 - accuracy: 0.8995\n",
            "Epoch 98/100\n",
            "356/356 [==============================] - 0s 1ms/step - loss: 0.2627 - accuracy: 0.8892\n",
            "Epoch 99/100\n",
            "356/356 [==============================] - 0s 1ms/step - loss: 0.2631 - accuracy: 0.8867\n",
            "Epoch 100/100\n",
            "356/356 [==============================] - 0s 1ms/step - loss: 0.2453 - accuracy: 0.8969\n"
          ],
          "name": "stdout"
        },
        {
          "output_type": "execute_result",
          "data": {
            "text/plain": [
              "<tensorflow.python.keras.callbacks.History at 0x7f7c6b6a9c90>"
            ]
          },
          "metadata": {
            "tags": []
          },
          "execution_count": 117
        }
      ]
    },
    {
      "cell_type": "code",
      "metadata": {
        "id": "Vh72Sda6NcTS"
      },
      "source": [
        "model.save_weights(\"two_layer_credit_score_model.h5\")"
      ],
      "execution_count": null,
      "outputs": []
    },
    {
      "cell_type": "code",
      "metadata": {
        "id": "5FzsJVYXeIOw"
      },
      "source": [
        "y_pred = model.predict(X_test)\r\n",
        "y_test_class = np.argmax(y_test,axis=1)\r\n",
        "y_pred_class = np.argmax(y_pred,axis=1)"
      ],
      "execution_count": null,
      "outputs": []
    },
    {
      "cell_type": "code",
      "metadata": {
        "colab": {
          "base_uri": "https://localhost:8080/"
        },
        "id": "C_RBNzYQXH0O",
        "outputId": "681c7750-d599-4cba-e9a9-228cd9311151"
      },
      "source": [
        "print(classification_report(y_test_class,y_pred_class))"
      ],
      "execution_count": null,
      "outputs": [
        {
          "output_type": "stream",
          "text": [
            "              precision    recall  f1-score   support\n",
            "\n",
            "           0       0.60      0.59      0.59       252\n",
            "           1       0.84      0.85      0.84       638\n",
            "\n",
            "    accuracy                           0.77       890\n",
            "   macro avg       0.72      0.72      0.72       890\n",
            "weighted avg       0.77      0.77      0.77       890\n",
            "\n"
          ],
          "name": "stdout"
        }
      ]
    },
    {
      "cell_type": "code",
      "metadata": {
        "colab": {
          "base_uri": "https://localhost:8080/"
        },
        "id": "1URL2P5ZXK3K",
        "outputId": "0dfc9022-8ead-4914-af5f-17fb6b9710bd"
      },
      "source": [
        "print(confusion_matrix(y_test_class,y_pred_class))"
      ],
      "execution_count": null,
      "outputs": [
        {
          "output_type": "stream",
          "text": [
            "[[148 104]\n",
            " [ 98 540]]\n"
          ],
          "name": "stdout"
        }
      ]
    },
    {
      "cell_type": "code",
      "metadata": {
        "colab": {
          "base_uri": "https://localhost:8080/"
        },
        "id": "7OyfTG9hXb_Y",
        "outputId": "f59d2749-8aef-42d0-a977-09ce3ace785e"
      },
      "source": [
        "round(average_precision_score(y_test_class,y_pred_class), 2)"
      ],
      "execution_count": null,
      "outputs": [
        {
          "output_type": "execute_result",
          "data": {
            "text/plain": [
              "0.82"
            ]
          },
          "metadata": {
            "tags": []
          },
          "execution_count": 135
        }
      ]
    },
    {
      "cell_type": "code",
      "metadata": {
        "colab": {
          "base_uri": "https://localhost:8080/"
        },
        "id": "bEX9E8_pXamX",
        "outputId": "4a0f04de-5d14-4940-96ae-58f3fd426708"
      },
      "source": [
        "round(accuracy_score(y_test_class,y_pred_class), 2)"
      ],
      "execution_count": null,
      "outputs": [
        {
          "output_type": "execute_result",
          "data": {
            "text/plain": [
              "0.77"
            ]
          },
          "metadata": {
            "tags": []
          },
          "execution_count": 134
        }
      ]
    },
    {
      "cell_type": "code",
      "metadata": {
        "id": "sSuiRvGWY5dm"
      },
      "source": [
        ""
      ],
      "execution_count": null,
      "outputs": []
    }
  ]
}