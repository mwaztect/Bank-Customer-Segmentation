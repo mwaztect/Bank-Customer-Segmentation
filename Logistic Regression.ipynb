{
  "nbformat": 4,
  "nbformat_minor": 0,
  "metadata": {
    "colab": {
      "name": "Sample.ipynb",
      "provenance": []
    },
    "kernelspec": {
      "name": "python3",
      "display_name": "Python 3"
    }
  },
  "cells": [
    {
      "cell_type": "markdown",
      "metadata": {
        "id": "mwNstk4EyTep"
      },
      "source": [
        "##**Mounting Drive**"
      ]
    },
    {
      "cell_type": "code",
      "metadata": {
        "colab": {
          "base_uri": "https://localhost:8080/"
        },
        "id": "gDSnHTpGnMwy",
        "outputId": "c8d9c6ee-c610-43c6-ceee-1fb32ca6e578"
      },
      "source": [
        "from google.colab import drive\r\n",
        "import os\r\n",
        "drive.mount('/content/drive', force_remount=True)\r\n",
        "os.chdir('/content/drive/MyDrive/Personal_Projects')"
      ],
      "execution_count": null,
      "outputs": [
        {
          "output_type": "stream",
          "text": [
            "Mounted at /content/drive\n"
          ],
          "name": "stdout"
        }
      ]
    },
    {
      "cell_type": "markdown",
      "metadata": {
        "id": "yB0lu7gMlUv8"
      },
      "source": [
        "##**Logistic Regression**"
      ]
    },
    {
      "cell_type": "code",
      "metadata": {
        "id": "Lg8uI4XLlYPB"
      },
      "source": [
        "from sklearn.linear_model import LogisticRegression\r\n",
        "from sklearn.preprocessing import LabelEncoder\r\n",
        "from sklearn.model_selection import train_test_split\r\n",
        "from sklearn.metrics import classification_report,confusion_matrix\r\n",
        "import pandas as pd\r\n",
        "import numpy as np"
      ],
      "execution_count": null,
      "outputs": []
    },
    {
      "cell_type": "code",
      "metadata": {
        "colab": {
          "base_uri": "https://localhost:8080/",
          "height": 204
        },
        "id": "ynpbwyhpmCKg",
        "outputId": "a59b140a-8797-4928-cb98-66dbb1908f94"
      },
      "source": [
        "data = pd.read_csv(\"Credit_Scoring.csv\")\r\n",
        "data.head()"
      ],
      "execution_count": null,
      "outputs": [
        {
          "output_type": "execute_result",
          "data": {
            "text/html": [
              "<div>\n",
              "<style scoped>\n",
              "    .dataframe tbody tr th:only-of-type {\n",
              "        vertical-align: middle;\n",
              "    }\n",
              "\n",
              "    .dataframe tbody tr th {\n",
              "        vertical-align: top;\n",
              "    }\n",
              "\n",
              "    .dataframe thead th {\n",
              "        text-align: right;\n",
              "    }\n",
              "</style>\n",
              "<table border=\"1\" class=\"dataframe\">\n",
              "  <thead>\n",
              "    <tr style=\"text-align: right;\">\n",
              "      <th></th>\n",
              "      <th>Status</th>\n",
              "      <th>Seniority</th>\n",
              "      <th>Home</th>\n",
              "      <th>Time</th>\n",
              "      <th>Age</th>\n",
              "      <th>Marital</th>\n",
              "      <th>Records</th>\n",
              "      <th>Job</th>\n",
              "      <th>Expenses</th>\n",
              "      <th>Income</th>\n",
              "      <th>Assets</th>\n",
              "      <th>Debt</th>\n",
              "      <th>Amount</th>\n",
              "      <th>Price</th>\n",
              "      <th>Finrat</th>\n",
              "      <th>Savings</th>\n",
              "    </tr>\n",
              "  </thead>\n",
              "  <tbody>\n",
              "    <tr>\n",
              "      <th>0</th>\n",
              "      <td>good</td>\n",
              "      <td>9</td>\n",
              "      <td>rent</td>\n",
              "      <td>60</td>\n",
              "      <td>30</td>\n",
              "      <td>married</td>\n",
              "      <td>no_rec</td>\n",
              "      <td>freelance</td>\n",
              "      <td>73</td>\n",
              "      <td>129</td>\n",
              "      <td>0</td>\n",
              "      <td>0</td>\n",
              "      <td>800</td>\n",
              "      <td>846</td>\n",
              "      <td>94.562648</td>\n",
              "      <td>4.200000</td>\n",
              "    </tr>\n",
              "    <tr>\n",
              "      <th>1</th>\n",
              "      <td>good</td>\n",
              "      <td>17</td>\n",
              "      <td>rent</td>\n",
              "      <td>60</td>\n",
              "      <td>58</td>\n",
              "      <td>widow</td>\n",
              "      <td>no_rec</td>\n",
              "      <td>fixed</td>\n",
              "      <td>48</td>\n",
              "      <td>131</td>\n",
              "      <td>0</td>\n",
              "      <td>0</td>\n",
              "      <td>1000</td>\n",
              "      <td>1658</td>\n",
              "      <td>60.313631</td>\n",
              "      <td>4.980000</td>\n",
              "    </tr>\n",
              "    <tr>\n",
              "      <th>2</th>\n",
              "      <td>bad</td>\n",
              "      <td>10</td>\n",
              "      <td>owner</td>\n",
              "      <td>36</td>\n",
              "      <td>46</td>\n",
              "      <td>married</td>\n",
              "      <td>yes_rec</td>\n",
              "      <td>freelance</td>\n",
              "      <td>90</td>\n",
              "      <td>200</td>\n",
              "      <td>3000</td>\n",
              "      <td>0</td>\n",
              "      <td>2000</td>\n",
              "      <td>2985</td>\n",
              "      <td>67.001675</td>\n",
              "      <td>1.980000</td>\n",
              "    </tr>\n",
              "    <tr>\n",
              "      <th>3</th>\n",
              "      <td>good</td>\n",
              "      <td>0</td>\n",
              "      <td>rent</td>\n",
              "      <td>60</td>\n",
              "      <td>24</td>\n",
              "      <td>single</td>\n",
              "      <td>no_rec</td>\n",
              "      <td>fixed</td>\n",
              "      <td>63</td>\n",
              "      <td>182</td>\n",
              "      <td>2500</td>\n",
              "      <td>0</td>\n",
              "      <td>900</td>\n",
              "      <td>1325</td>\n",
              "      <td>67.924528</td>\n",
              "      <td>7.933333</td>\n",
              "    </tr>\n",
              "    <tr>\n",
              "      <th>4</th>\n",
              "      <td>good</td>\n",
              "      <td>0</td>\n",
              "      <td>rent</td>\n",
              "      <td>36</td>\n",
              "      <td>26</td>\n",
              "      <td>single</td>\n",
              "      <td>no_rec</td>\n",
              "      <td>fixed</td>\n",
              "      <td>46</td>\n",
              "      <td>107</td>\n",
              "      <td>0</td>\n",
              "      <td>0</td>\n",
              "      <td>310</td>\n",
              "      <td>910</td>\n",
              "      <td>34.065934</td>\n",
              "      <td>7.083871</td>\n",
              "    </tr>\n",
              "  </tbody>\n",
              "</table>\n",
              "</div>"
            ],
            "text/plain": [
              "  Status  Seniority   Home  Time  Age  ... Debt Amount Price     Finrat   Savings\n",
              "0   good          9   rent    60   30  ...    0    800   846  94.562648  4.200000\n",
              "1   good         17   rent    60   58  ...    0   1000  1658  60.313631  4.980000\n",
              "2    bad         10  owner    36   46  ...    0   2000  2985  67.001675  1.980000\n",
              "3   good          0   rent    60   24  ...    0    900  1325  67.924528  7.933333\n",
              "4   good          0   rent    36   26  ...    0    310   910  34.065934  7.083871\n",
              "\n",
              "[5 rows x 16 columns]"
            ]
          },
          "metadata": {
            "tags": []
          },
          "execution_count": 110
        }
      ]
    },
    {
      "cell_type": "code",
      "metadata": {
        "colab": {
          "base_uri": "https://localhost:8080/"
        },
        "id": "nLmkhJZKmCKh",
        "outputId": "518119fe-a8dd-4b5a-b333-087968fc9c7c"
      },
      "source": [
        "data.shape"
      ],
      "execution_count": null,
      "outputs": [
        {
          "output_type": "execute_result",
          "data": {
            "text/plain": [
              "(4446, 16)"
            ]
          },
          "metadata": {
            "tags": []
          },
          "execution_count": 111
        }
      ]
    },
    {
      "cell_type": "code",
      "metadata": {
        "colab": {
          "base_uri": "https://localhost:8080/"
        },
        "id": "No5_5rZtmCKi",
        "outputId": "99d88f38-a3df-4b53-93a4-717d782bc3cb"
      },
      "source": [
        "# Checking if any Missing Values are there in the Dataset\r\n",
        "data.isnull().any()"
      ],
      "execution_count": null,
      "outputs": [
        {
          "output_type": "execute_result",
          "data": {
            "text/plain": [
              "Status       False\n",
              "Seniority    False\n",
              "Home         False\n",
              "Time         False\n",
              "Age          False\n",
              "Marital      False\n",
              "Records      False\n",
              "Job          False\n",
              "Expenses     False\n",
              "Income       False\n",
              "Assets       False\n",
              "Debt         False\n",
              "Amount       False\n",
              "Price        False\n",
              "Finrat       False\n",
              "Savings      False\n",
              "dtype: bool"
            ]
          },
          "metadata": {
            "tags": []
          },
          "execution_count": 112
        }
      ]
    },
    {
      "cell_type": "code",
      "metadata": {
        "colab": {
          "base_uri": "https://localhost:8080/"
        },
        "id": "y3wQZ4OJmCKi",
        "outputId": "bdf50ea5-6180-4d6b-b7c3-c11b8283c103"
      },
      "source": [
        "# Checking if any categorical Features are there in the Dataset\r\n",
        "categorical_data = data.select_dtypes(exclude=[np.number])\r\n",
        "print (\"There are {} categorical Columns in Dataset\".format(categorical_data.shape[1]))"
      ],
      "execution_count": null,
      "outputs": [
        {
          "output_type": "stream",
          "text": [
            "There are 5 categorical Columns in Dataset\n"
          ],
          "name": "stdout"
        }
      ]
    },
    {
      "cell_type": "code",
      "metadata": {
        "colab": {
          "base_uri": "https://localhost:8080/"
        },
        "id": "ZFTYQ82imCKj",
        "outputId": "7f102577-f1be-44c5-849f-ab55fdd14d40"
      },
      "source": [
        "# Name of all the Categorical Features Present in the Dataset\r\n",
        "categorical_data.any()"
      ],
      "execution_count": null,
      "outputs": [
        {
          "output_type": "execute_result",
          "data": {
            "text/plain": [
              "Status     True\n",
              "Home       True\n",
              "Marital    True\n",
              "Records    True\n",
              "Job        True\n",
              "dtype: bool"
            ]
          },
          "metadata": {
            "tags": []
          },
          "execution_count": 114
        }
      ]
    },
    {
      "cell_type": "code",
      "metadata": {
        "id": "Y4jIOGoSmCKj"
      },
      "source": [
        "encoder =  LabelEncoder()\r\n",
        "data['Status'] = encoder.fit_transform(data['Status'].astype('str'))\r\n",
        "data['Home'] = encoder.fit_transform(data['Home'].astype('str'))\r\n",
        "data['Marital'] = encoder.fit_transform(data['Marital'].astype('str'))\r\n",
        "data['Job'] = encoder.fit_transform(data['Job'].astype('str'))\r\n",
        "data['Records'] = encoder.fit_transform(data['Records'].astype('str'))"
      ],
      "execution_count": null,
      "outputs": []
    },
    {
      "cell_type": "code",
      "metadata": {
        "colab": {
          "base_uri": "https://localhost:8080/"
        },
        "id": "hqzRhguQmCKj",
        "outputId": "c3998ecd-bf4f-4ba1-e07d-1eeeb30905c3"
      },
      "source": [
        "#Checking Data Types of the Features for Confirmation\r\n",
        "data.dtypes"
      ],
      "execution_count": null,
      "outputs": [
        {
          "output_type": "execute_result",
          "data": {
            "text/plain": [
              "Status         int64\n",
              "Seniority      int64\n",
              "Home           int64\n",
              "Time           int64\n",
              "Age            int64\n",
              "Marital        int64\n",
              "Records        int64\n",
              "Job            int64\n",
              "Expenses       int64\n",
              "Income         int64\n",
              "Assets         int64\n",
              "Debt           int64\n",
              "Amount         int64\n",
              "Price          int64\n",
              "Finrat       float64\n",
              "Savings      float64\n",
              "dtype: object"
            ]
          },
          "metadata": {
            "tags": []
          },
          "execution_count": 116
        }
      ]
    },
    {
      "cell_type": "code",
      "metadata": {
        "colab": {
          "base_uri": "https://localhost:8080/"
        },
        "id": "aIrj3gWQmCKk",
        "outputId": "f6a6ff8c-2da0-42c8-c046-45d88b6ef985"
      },
      "source": [
        "# Value Counts of 'GOOD' Status and 'BAD' Status\r\n",
        "# 'GOOD': 1 and 'BAD': 0\r\n",
        "data.Status.value_counts()"
      ],
      "execution_count": null,
      "outputs": [
        {
          "output_type": "execute_result",
          "data": {
            "text/plain": [
              "1    3197\n",
              "0    1249\n",
              "Name: Status, dtype: int64"
            ]
          },
          "metadata": {
            "tags": []
          },
          "execution_count": 117
        }
      ]
    },
    {
      "cell_type": "code",
      "metadata": {
        "id": "GKBxUFt8mCKk"
      },
      "source": [
        "X = data.iloc[:,1:].values\r\n",
        "y = data.iloc[:,0].values\r\n",
        "Y = pd.get_dummies(y).values"
      ],
      "execution_count": null,
      "outputs": []
    },
    {
      "cell_type": "code",
      "metadata": {
        "colab": {
          "base_uri": "https://localhost:8080/"
        },
        "id": "UTm9Fz1AoaET",
        "outputId": "996efe55-3358-4d6f-e218-6d16d2df4f78"
      },
      "source": [
        "y"
      ],
      "execution_count": null,
      "outputs": [
        {
          "output_type": "execute_result",
          "data": {
            "text/plain": [
              "array([1, 1, 0, ..., 0, 1, 1])"
            ]
          },
          "metadata": {
            "tags": []
          },
          "execution_count": 124
        }
      ]
    },
    {
      "cell_type": "code",
      "metadata": {
        "colab": {
          "base_uri": "https://localhost:8080/"
        },
        "id": "rYTjM9wsmCKk",
        "outputId": "87645b58-9af2-4e36-fa4c-161b0b2ff2eb"
      },
      "source": [
        "y.size, X.size, Y.size, len(y), len(X), len(Y)"
      ],
      "execution_count": null,
      "outputs": [
        {
          "output_type": "execute_result",
          "data": {
            "text/plain": [
              "(4446, 66690, 8892, 4446, 4446, 4446)"
            ]
          },
          "metadata": {
            "tags": []
          },
          "execution_count": 119
        }
      ]
    },
    {
      "cell_type": "code",
      "metadata": {
        "id": "ARVEVkuOmCKl"
      },
      "source": [
        "X_train, X_test, y_train, y_test = train_test_split(X, y, test_size=0.2, random_state=0, shuffle=True)"
      ],
      "execution_count": null,
      "outputs": []
    },
    {
      "cell_type": "code",
      "metadata": {
        "colab": {
          "base_uri": "https://localhost:8080/"
        },
        "id": "hXQ9JSSLmCKl",
        "outputId": "3a117f37-ef96-41f6-f97d-652d6d7e23b2"
      },
      "source": [
        "X_train.size, X_test.size, y_train.size, y_test.size, data.size"
      ],
      "execution_count": null,
      "outputs": [
        {
          "output_type": "execute_result",
          "data": {
            "text/plain": [
              "(53340, 13350, 3556, 890, 71136)"
            ]
          },
          "metadata": {
            "tags": []
          },
          "execution_count": 127
        }
      ]
    },
    {
      "cell_type": "code",
      "metadata": {
        "id": "tNyPWhIVQlFM"
      },
      "source": [
        "sc = StandardScaler()\r\n",
        "X_train = sc.fit_transform(X_train)\r\n",
        "X_test = sc.fit_transform(X_test)"
      ],
      "execution_count": null,
      "outputs": []
    },
    {
      "cell_type": "code",
      "metadata": {
        "colab": {
          "base_uri": "https://localhost:8080/"
        },
        "id": "5kuiqCUGmFuk",
        "outputId": "3a4ef80d-e454-4eac-b260-0a4daeae0f99"
      },
      "source": [
        "lr = LogisticRegression(random_state=0, solver='lbfgs', max_iter=2700).fit(X_train, y_train)\r\n",
        "print(f'Accuracy: {lr.score(X_test, y_test)}')"
      ],
      "execution_count": null,
      "outputs": [
        {
          "output_type": "stream",
          "text": [
            "Accuracy: 0.8033707865168539\n"
          ],
          "name": "stdout"
        }
      ]
    },
    {
      "cell_type": "code",
      "metadata": {
        "id": "c2hzelehP0Xf"
      },
      "source": [
        "y_pred = lr.predict(X_test)"
      ],
      "execution_count": null,
      "outputs": []
    },
    {
      "cell_type": "code",
      "metadata": {
        "id": "2-Ex7Mepq4BR",
        "colab": {
          "base_uri": "https://localhost:8080/"
        },
        "outputId": "59c3e074-1bf1-4b74-ba83-740ff3990705"
      },
      "source": [
        "print(classification_report(y_test, y_pred))"
      ],
      "execution_count": null,
      "outputs": [
        {
          "output_type": "stream",
          "text": [
            "              precision    recall  f1-score   support\n",
            "\n",
            "           0       0.73      0.49      0.58       252\n",
            "           1       0.82      0.93      0.87       638\n",
            "\n",
            "    accuracy                           0.80       890\n",
            "   macro avg       0.77      0.71      0.73       890\n",
            "weighted avg       0.79      0.80      0.79       890\n",
            "\n"
          ],
          "name": "stdout"
        }
      ]
    },
    {
      "cell_type": "code",
      "metadata": {
        "colab": {
          "base_uri": "https://localhost:8080/"
        },
        "id": "4lf02tR1PXY2",
        "outputId": "023e0e0a-38cb-4f06-e84d-8e836cad9863"
      },
      "source": [
        "confusion_matrix(y_test, y_pred)"
      ],
      "execution_count": null,
      "outputs": [
        {
          "output_type": "execute_result",
          "data": {
            "text/plain": [
              "array([[123, 129],\n",
              "       [ 46, 592]])"
            ]
          },
          "metadata": {
            "tags": []
          },
          "execution_count": 63
        }
      ]
    },
    {
      "cell_type": "code",
      "metadata": {
        "colab": {
          "base_uri": "https://localhost:8080/"
        },
        "id": "LKBkBhvUPY63",
        "outputId": "d308ad06-5edc-4477-e191-2f0912088239"
      },
      "source": [
        "round(accuracy_score(y_test, y_pred), 2)"
      ],
      "execution_count": null,
      "outputs": [
        {
          "output_type": "execute_result",
          "data": {
            "text/plain": [
              "0.8"
            ]
          },
          "metadata": {
            "tags": []
          },
          "execution_count": 64
        }
      ]
    },
    {
      "cell_type": "code",
      "metadata": {
        "colab": {
          "base_uri": "https://localhost:8080/"
        },
        "id": "qkTRAqE4PbF2",
        "outputId": "e25af0ca-4648-48ad-9d25-304e669ed613"
      },
      "source": [
        "round(average_precision_score(y_test, y_pred), 2)"
      ],
      "execution_count": null,
      "outputs": [
        {
          "output_type": "execute_result",
          "data": {
            "text/plain": [
              "0.81"
            ]
          },
          "metadata": {
            "tags": []
          },
          "execution_count": 65
        }
      ]
    }
  ]
}